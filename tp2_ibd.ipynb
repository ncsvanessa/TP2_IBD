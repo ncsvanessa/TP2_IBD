{
 "cells": [
  {
   "cell_type": "markdown",
   "metadata": {
    "id": "tgxJ7UKh-XEg"
   },
   "source": [
    "# 1. Famílias inscritas no Cadastro Único por faixa de renda per capita"
   ]
  },
  {
   "cell_type": "markdown",
   "metadata": {
    "id": "K4OZbfKgnKx8"
   },
   "source": [
    "# 2. Membros\n",
    "Thiago Augusto Vaz Silveira - 2023001506\n",
    "\n",
    "Vanessa Nascimento Silva - 2023001816\n",
    "\n",
    "Yuri Estevao Sales de Oliveira - 2023087850\n"
   ]
  },
  {
   "cell_type": "markdown",
   "metadata": {},
   "source": [
    "# 3. Descrição dos dados (qual a URL? qual o domínio? como os dados foram processados?)"
   ]
  },
  {
   "cell_type": "code",
   "execution_count": null,
   "metadata": {},
   "outputs": [],
   "source": [
    "import sqlite3\n",
    "import pandas as pd\n",
    "import requests\n",
    "\n",
    "# URL do arquivo no GitHub\n",
    "url = \"https://github.com/ncsvanessa/TP2_IBD/raw/refs/heads/main/dados.db\"\n",
    "\n",
    "# Nome do arquivo para salvar localmente\n",
    "db_path = \"dados.db\"\n",
    "\n",
    "# Baixar o arquivo\n",
    "response = requests.get(url)\n",
    "if response.status_code == 200:\n",
    "    with open(db_path, 'wb') as file:\n",
    "        file.write(response.content)\n",
    "    print(f\"Banco de dados baixado com sucesso em: {db_path}\")\n",
    "else:\n",
    "    print(f\"Erro ao baixar o banco de dados: {response.status_code}\")\n",
    "\n",
    "# Conexão com o banco de dados\n",
    "conn = sqlite3.connect(\"dados.db\")\n",
    "cursor = conn.cursor()\n",
    "\n"
   ]
  },
  {
   "cell_type": "markdown",
   "metadata": {},
   "source": [
    "# 4. Diagrama ER"
   ]
  },
  {
   "cell_type": "markdown",
   "metadata": {},
   "source": [
    "# 5. Diagrama relacional"
   ]
  },
  {
   "cell_type": "markdown",
   "metadata": {},
   "source": [
    "# 6. Consultas"
   ]
  },
  {
   "cell_type": "markdown",
   "metadata": {},
   "source": [
    "Teste 1: Listar as tabelas no banco"
   ]
  },
  {
   "cell_type": "code",
   "execution_count": null,
   "metadata": {},
   "outputs": [],
   "source": [
    "query = \"SELECT name FROM sqlite_master WHERE type='table';\"\n",
    "tables = pd.read_sql_query(query, conn)\n",
    "print(\"Tabelas disponíveis:\")\n",
    "print(tables)"
   ]
  },
  {
   "cell_type": "markdown",
   "metadata": {},
   "source": [
    "Teste 2: Conferir as junções de tabela"
   ]
  },
  {
   "cell_type": "code",
   "execution_count": null,
   "metadata": {},
   "outputs": [],
   "source": [
    "query = \"\"\"\n",
    "SELECT Municipio.nome_municipio, FamiliasPobres.qtd_familias\n",
    "FROM Municipio\n",
    "JOIN FamiliasPobres  \n",
    "    ON CAST(TRIM(Municipio.codigo_ibge) AS TEXT) = CAST(TRIM(FamiliasPobres.codigo_ibge) AS TEXT)\n",
    "WHERE TRIM(Municipio.uf) = 'SP' AND FamiliasPobres.mes = '202401'\n",
    "ORDER BY FamiliasPobres.qtd_familias DESC\n",
    "LIMIT 10;\n",
    "\"\"\"\n",
    "\n",
    "df = pd.read_sql_query(query, conn)\n",
    "df"
   ]
  },
  {
   "cell_type": "markdown",
   "metadata": {},
   "source": [
    "## 6.1 Duas consultas envolvendo seleção e projeção"
   ]
  },
  {
   "cell_type": "markdown",
   "metadata": {},
   "source": [
    "### 6.1.1 Consulta 1"
   ]
  },
  {
   "cell_type": "markdown",
   "metadata": {},
   "source": [
    "Cidades do estado de São Paulo com mais de 10.000 famílias em situação de pobreza (2024-01)"
   ]
  },
  {
   "cell_type": "code",
   "execution_count": null,
   "metadata": {},
   "outputs": [],
   "source": [
    "query = \"\"\"\n",
    "SELECT \n",
    "    Municipio.nome_municipio,\n",
    "    FamiliasPobres.qtd_familias\n",
    "FROM Municipio\n",
    "JOIN FamiliasPobres \n",
    "    ON CAST(TRIM(Municipio.codigo_ibge) AS TEXT) = CAST(TRIM(FamiliasPobres.codigo_ibge) AS TEXT)\n",
    "WHERE TRIM(Municipio.uf) = 'SP' AND FamiliasPobres.qtd_familias > 10000 AND FamiliasPobres.mes = '202401'\n",
    "ORDER BY FamiliasPobres.qtd_familias DESC\n",
    "\"\"\"\n",
    "\n",
    "df = pd.read_sql_query(query, conn)\n",
    "df"
   ]
  },
  {
   "cell_type": "markdown",
   "metadata": {},
   "source": [
    "### 6.1.2 Consulta 2"
   ]
  },
  {
   "cell_type": "markdown",
   "metadata": {},
   "source": [
    "Cidades do estado de Rondônia"
   ]
  },
  {
   "cell_type": "code",
   "execution_count": null,
   "metadata": {},
   "outputs": [],
   "source": [
    "query = \"\"\"\n",
    "SELECT nome_municipio, TRIM(uf) AS uf\n",
    "FROM Municipio\n",
    "WHERE TRIM(uf) = 'RO'\n",
    "ORDER BY nome_municipio;\n",
    "\"\"\"\n",
    "\n",
    "df = pd.read_sql_query(query, conn)\n",
    "df"
   ]
  },
  {
   "cell_type": "markdown",
   "metadata": {},
   "source": [
    "## 6.2 Três consultas envolvendo junção de duas relações"
   ]
  },
  {
   "cell_type": "markdown",
   "metadata": {},
   "source": [
    "### 6.2.1 Consulta 3"
   ]
  },
  {
   "cell_type": "markdown",
   "metadata": {},
   "source": [
    "10 cidades com o maior indicador de famílias pobres (2024-01)"
   ]
  },
  {
   "cell_type": "code",
   "execution_count": null,
   "metadata": {},
   "outputs": [],
   "source": [
    "query = \"\"\"\n",
    "SELECT \n",
    "    Municipio.nome_municipio,\n",
    "    FamiliasPobres.qtd_familias AS familias_pobres\n",
    "FROM Municipio\n",
    "JOIN FamiliasPobres \n",
    "    ON Municipio.codigo_ibge = FamiliasPobres.codigo_ibge\n",
    "WHERE FamiliasPobres.mes = '202401'\n",
    "ORDER BY FamiliasPobres.qtd_familias DESC\n",
    "LIMIT 10;\n",
    "\"\"\"\n",
    "\n",
    "df = pd.read_sql_query(query, conn)\n",
    "df"
   ]
  },
  {
   "cell_type": "markdown",
   "metadata": {},
   "source": [
    "### 6.2.2 Consulta 4 //colocar periodo na consulta"
   ]
  },
  {
   "cell_type": "markdown",
   "metadata": {},
   "source": [
    "Total de famílias pobres por municipio em Rondônia"
   ]
  },
  {
   "cell_type": "code",
   "execution_count": null,
   "metadata": {},
   "outputs": [],
   "source": [
    "query = \"\"\"\n",
    "SELECT Municipio.nome_municipio, SUM(FamiliasPobres.qtd_familias) AS total_familias_pobres\n",
    "FROM Municipio\n",
    "JOIN FamiliasPobres\n",
    "    ON Municipio.codigo_ibge = FamiliasPobres.codigo_ibge\n",
    "WHERE TRIM(Municipio.uf) = 'RO'\n",
    "GROUP BY Municipio.nome_municipio\n",
    "ORDER BY Municipio.nome_municipio;\n",
    "\"\"\"\n",
    "\n",
    "df = pd.read_sql_query(query, conn)\n",
    "df"
   ]
  },
  {
   "cell_type": "markdown",
   "metadata": {},
   "source": [
    "### 6.2.3 Consulta 5 //mesma pesquisa que a 9"
   ]
  },
  {
   "cell_type": "markdown",
   "metadata": {},
   "source": [
    "Total de famílias pobres por estado (UF)"
   ]
  },
  {
   "cell_type": "code",
   "execution_count": null,
   "metadata": {},
   "outputs": [],
   "source": [
    "query = \"\"\"\n",
    "SELECT TRIM(Municipio.uf) AS uf, SUM(FamiliasPobres.qtd_familias) AS total_familias_pobres\n",
    "FROM Municipio\n",
    "JOIN FamiliasPobres\n",
    "    ON Municipio.codigo_ibge = FamiliasPobres.codigo_ibge\n",
    "GROUP BY TRIM(Municipio.uf)\n",
    "ORDER BY TRIM(Municipio.uf);\n",
    "\"\"\"\n",
    "\n",
    "df = pd.read_sql_query(query, conn)\n",
    "df"
   ]
  },
  {
   "cell_type": "markdown",
   "metadata": {},
   "source": [
    "## 6.3 Três consultas envolvendo junção de três ou mais relações"
   ]
  },
  {
   "cell_type": "markdown",
   "metadata": {},
   "source": [
    "### 6.3.1 Consulta 6"
   ]
  },
  {
   "cell_type": "markdown",
   "metadata": {},
   "source": [
    "Quantidade de famílias por indicador listadas por período no país (Ano de 2024)"
   ]
  },
  {
   "cell_type": "code",
   "execution_count": null,
   "metadata": {},
   "outputs": [],
   "source": [
    "query = \"\"\"\n",
    "SELECT \n",
    "    FamiliasPobres.mes AS periodo,\n",
    "    SUM(FamiliasPobres.qtd_familias) AS total_familias_pobres,\n",
    "    SUM(FamiliasBaixaRenda.qtd_familias) AS total_familias_baixa_renda,\n",
    "    SUM(FamiliasAcimaMeioSalario.qtd_familias) AS total_familias_acima_meio_salario\n",
    "FROM FamiliasPobres\n",
    "LEFT JOIN FamiliasBaixaRenda \n",
    "    ON FamiliasPobres.codigo_ibge = FamiliasBaixaRenda.codigo_ibge\n",
    "    AND FamiliasPobres.mes = FamiliasBaixaRenda.mes\n",
    "LEFT JOIN FamiliasAcimaMeioSalario \n",
    "    ON FamiliasPobres.codigo_ibge = FamiliasAcimaMeioSalario.codigo_ibge\n",
    "    AND FamiliasPobres.mes = FamiliasAcimaMeioSalario.mes\n",
    "GROUP BY FamiliasPobres.mes\n",
    "ORDER BY FamiliasPobres.mes;\n",
    "\"\"\"\n",
    "\n",
    "df = pd.read_sql_query(query, conn)\n",
    "df"
   ]
  },
  {
   "cell_type": "markdown",
   "metadata": {},
   "source": [
    "### 6.3.2 Consulta 7"
   ]
  },
  {
   "cell_type": "markdown",
   "metadata": {},
   "source": [
    "Cidade de cada estado com os maiores valores por indicador no período de 2024-01\n"
   ]
  },
  {
   "cell_type": "code",
   "execution_count": null,
   "metadata": {},
   "outputs": [],
   "source": [
    "query = \"\"\"\n",
    "WITH RankedCities AS (\n",
    "    SELECT \n",
    "        Municipio.uf,\n",
    "        Municipio.nome_municipio,\n",
    "        FamiliasPobres.qtd_familias AS familias_pobres,\n",
    "        FamiliasBaixaRenda.qtd_familias AS familias_baixa_renda,\n",
    "        FamiliasAcimaMeioSalario.qtd_familias AS familias_acima_meio_salario,\n",
    "        ROW_NUMBER() OVER (PARTITION BY Municipio.uf ORDER BY FamiliasPobres.qtd_familias DESC) AS rank_pobres,\n",
    "        ROW_NUMBER() OVER (PARTITION BY Municipio.uf ORDER BY FamiliasBaixaRenda.qtd_familias DESC) AS rank_baixa_renda,\n",
    "        ROW_NUMBER() OVER (PARTITION BY Municipio.uf ORDER BY FamiliasAcimaMeioSalario.qtd_familias DESC) AS rank_acima_meio_salario\n",
    "    FROM Municipio\n",
    "    LEFT JOIN FamiliasPobres \n",
    "        ON Municipio.codigo_ibge = FamiliasPobres.codigo_ibge AND FamiliasPobres.mes = '202401'\n",
    "    LEFT JOIN FamiliasBaixaRenda \n",
    "        ON Municipio.codigo_ibge = FamiliasBaixaRenda.codigo_ibge AND FamiliasBaixaRenda.mes = '202401'\n",
    "    LEFT JOIN FamiliasAcimaMeioSalario \n",
    "        ON Municipio.codigo_ibge = FamiliasAcimaMeioSalario.codigo_ibge AND FamiliasAcimaMeioSalario.mes = '202401'\n",
    ")\n",
    "SELECT \n",
    "    uf,\n",
    "    nome_municipio,\n",
    "    familias_pobres,\n",
    "    familias_baixa_renda,\n",
    "    familias_acima_meio_salario\n",
    "FROM RankedCities\n",
    "WHERE rank_pobres = 1 OR rank_baixa_renda = 1 OR rank_acima_meio_salario = 1\n",
    "ORDER BY uf;\n",
    "\"\"\"\n",
    "\n",
    "df = pd.read_sql_query(query, conn)\n",
    "df"
   ]
  },
  {
   "cell_type": "markdown",
   "metadata": {},
   "source": [
    "### 6.3.3 Consulta 8 // colocar periodo na consulta"
   ]
  },
  {
   "cell_type": "markdown",
   "metadata": {},
   "source": [
    "Municípios de Rondônia por indicador"
   ]
  },
  {
   "cell_type": "code",
   "execution_count": null,
   "metadata": {},
   "outputs": [],
   "source": [
    "query = \"\"\"\n",
    "SELECT Municipio.nome_municipio, \n",
    "       SUM(FamiliasPobres.qtd_familias) AS familias_pobres, \n",
    "       SUM(FamiliasBaixaRenda.qtd_familias) AS familias_baixa_renda, \n",
    "       SUM(FamiliasAcimaMeioSalario.qtd_familias) AS familias_acima_meio_salario\n",
    "FROM Municipio\n",
    "LEFT JOIN FamiliasPobres\n",
    "    ON Municipio.codigo_ibge = FamiliasPobres.codigo_ibge\n",
    "LEFT JOIN FamiliasBaixaRenda\n",
    "    ON Municipio.codigo_ibge = FamiliasBaixaRenda.codigo_ibge\n",
    "LEFT JOIN FamiliasAcimaMeioSalario\n",
    "    ON Municipio.codigo_ibge = FamiliasAcimaMeioSalario.codigo_ibge\n",
    "WHERE TRIM(Municipio.uf) = 'RO'\n",
    "GROUP BY Municipio.nome_municipio\n",
    "ORDER BY Municipio.nome_municipio;\n",
    "\"\"\"\n",
    "\n",
    "df = pd.read_sql_query(query, conn)\n",
    "df"
   ]
  },
  {
   "cell_type": "markdown",
   "metadata": {},
   "source": [
    "## 6.4 Duas consultas envolvendo agregação sobre junção de duas ou mais relações"
   ]
  },
  {
   "cell_type": "markdown",
   "metadata": {},
   "source": [
    "### 6.4.1 Consulta 9"
   ]
  },
  {
   "cell_type": "markdown",
   "metadata": {},
   "source": [
    "Soma total de famílias por estado (UF) para cada indicador no período de 2024-01"
   ]
  },
  {
   "cell_type": "code",
   "execution_count": null,
   "metadata": {},
   "outputs": [],
   "source": [
    "query = \"\"\"\n",
    "SELECT \n",
    "    Municipio.uf,\n",
    "    SUM(FamiliasPobres.qtd_familias) AS total_familias_pobres,\n",
    "    SUM(FamiliasBaixaRenda.qtd_familias) AS total_familias_baixa_renda,\n",
    "    SUM(FamiliasAcimaMeioSalario.qtd_familias) AS total_familias_acima_meio_salario\n",
    "FROM Municipio\n",
    "LEFT JOIN FamiliasPobres \n",
    "    ON Municipio.codigo_ibge = FamiliasPobres.codigo_ibge\n",
    "    AND FamiliasPobres.mes = '202401' \n",
    "LEFT JOIN FamiliasBaixaRenda \n",
    "    ON Municipio.codigo_ibge = FamiliasBaixaRenda.codigo_ibge\n",
    "    AND FamiliasBaixaRenda.mes = '202401' \n",
    "LEFT JOIN FamiliasAcimaMeioSalario \n",
    "    ON Municipio.codigo_ibge = FamiliasAcimaMeioSalario.codigo_ibge\n",
    "    AND FamiliasAcimaMeioSalario.mes = '202401' \n",
    "GROUP BY Municipio.uf\n",
    "ORDER BY Municipio.uf;\n",
    "\"\"\"\n",
    "\n",
    "df = pd.read_sql_query(query, conn)\n",
    "df"
   ]
  },
  {
   "cell_type": "markdown",
   "metadata": {},
   "source": [
    "### 6.4.2 Consulta 10 // colocar periodo na consulta"
   ]
  },
  {
   "cell_type": "markdown",
   "metadata": {},
   "source": [
    "Média de famílias pobres por estado (UF)"
   ]
  },
  {
   "cell_type": "code",
   "execution_count": null,
   "metadata": {},
   "outputs": [],
   "source": [
    "query = \"\"\"\n",
    "SELECT TRIM(Municipio.uf) AS uf, \n",
    "       AVG(FamiliasPobres.qtd_familias) AS media_familias_pobres\n",
    "FROM Municipio\n",
    "JOIN FamiliasPobres\n",
    "    ON Municipio.codigo_ibge = FamiliasPobres.codigo_ibge\n",
    "GROUP BY TRIM(Municipio.uf)\n",
    "ORDER BY TRIM(Municipio.uf);\n",
    "\"\"\"\n",
    "\n",
    "df = pd.read_sql_query(query, conn)\n",
    "df"
   ]
  },
  {
   "cell_type": "markdown",
   "metadata": {},
   "source": [
    "# 7. Autoavaliação dos membros"
   ]
  }
 ],
 "metadata": {
  "colab": {
   "provenance": []
  },
  "kernelspec": {
   "display_name": "base",
   "language": "python",
   "name": "python3"
  },
  "language_info": {
   "codemirror_mode": {
    "name": "ipython",
    "version": 3
   },
   "file_extension": ".py",
   "mimetype": "text/x-python",
   "name": "python",
   "nbconvert_exporter": "python",
   "pygments_lexer": "ipython3",
   "version": "3.12.7"
  }
 },
 "nbformat": 4,
 "nbformat_minor": 4
}
